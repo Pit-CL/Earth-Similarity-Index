{
 "cells": [
  {
   "cell_type": "code",
   "execution_count": 2,
   "metadata": {
    "ExecuteTime": {
     "end_time": "2020-07-14T18:09:54.368676Z",
     "start_time": "2020-07-14T18:09:54.340678Z"
    }
   },
   "outputs": [
    {
     "data": {
      "text/plain": [
       "''"
      ]
     },
     "execution_count": 2,
     "metadata": {},
     "output_type": "execute_result"
    }
   ],
   "source": [
    "import os\n",
    "\n",
    "path = os.getcwd()\n",
    "data = path + '\\p4ds_esi_messy_data.txt'\n",
    "\n",
    "df = open(data, 'r')\n",
    "# Abre el archivo a trabajar en modo lectura\n",
    "name, medida, linea = [], [], []\n",
    "wasp26, hd96167, gj581b, gk581g, titan, jupyter, io, venus, moon, mercury, mars, earth = [],[],[],[],[],[],[],[],[],[],[],[]\n",
    "# Creo las listas que van a contener los datos\n",
    "name = df.readline()\n",
    "medida = df.readline()\n",
    "linea = df.readline()\n",
    "earth = df.readline()\n",
    "mars = df.readline()\n",
    "mercury = df.readline()\n",
    "moon = df.readline()\n",
    "venus = df.readline()\n",
    "io = df.readline()\n",
    "jupyter = df.readline()\n",
    "titan = df.readline()\n",
    "gj581g = df.readline()\n",
    "gj581b = df.readline()\n",
    "hd96167 = df.readline()\n",
    "wasp26 = df.readline()\n",
    "#Una línea por variable\n",
    "df.close()"
   ]
  },
  {
   "cell_type": "code",
   "execution_count": null,
   "metadata": {},
   "outputs": [],
   "source": [
    "def find_archivo(archivo):\n",
    "    \"\"\"[Devuelve dónde encuentra el archivo solicitado]\n",
    "    \"\"\"\n",
    "    busqueda = []\n",
    "    # Loop sobre la lista de directorios en sys.path\n",
    "    for subdir in sys.path:\n",
    "        # Ingresa el subdirectorio donde se encuentra el archivo que buscamos\n",
    "        pth = os.path.join(subdir, archivo)\n",
    "        # Usamos glob para saber si pth existe\n",
    "        res = glob.glob(pth)\n",
    "        # glob devuelve una lista, si no está vacío, el pth existe\n",
    "        if len(res) > 0:\n",
    "            busqueda.append(res)\n",
    "    return busqueda\n",
    "\n",
    "busqueda = find_archivo('p4ds_esi_messy_data.txt')\n",
    "print(busqueda)"
   ]
  }
 ],
 "metadata": {
  "hide_input": false,
  "kernelspec": {
   "display_name": "Python 3",
   "language": "python",
   "name": "python3"
  },
  "language_info": {
   "codemirror_mode": {
    "name": "ipython",
    "version": 3
   },
   "file_extension": ".py",
   "mimetype": "text/x-python",
   "name": "python",
   "nbconvert_exporter": "python",
   "pygments_lexer": "ipython3",
   "version": "3.7.6"
  },
  "toc": {
   "base_numbering": 1,
   "nav_menu": {},
   "number_sections": true,
   "sideBar": true,
   "skip_h1_title": false,
   "title_cell": "Table of Contents",
   "title_sidebar": "Contents",
   "toc_cell": false,
   "toc_position": {},
   "toc_section_display": true,
   "toc_window_display": false
  },
  "varInspector": {
   "cols": {
    "lenName": 16,
    "lenType": 16,
    "lenVar": 40
   },
   "kernels_config": {
    "python": {
     "delete_cmd_postfix": "",
     "delete_cmd_prefix": "del ",
     "library": "var_list.py",
     "varRefreshCmd": "print(var_dic_list())"
    },
    "r": {
     "delete_cmd_postfix": ") ",
     "delete_cmd_prefix": "rm(",
     "library": "var_list.r",
     "varRefreshCmd": "cat(var_dic_list()) "
    }
   },
   "types_to_exclude": [
    "module",
    "function",
    "builtin_function_or_method",
    "instance",
    "_Feature"
   ],
   "window_display": false
  }
 },
 "nbformat": 4,
 "nbformat_minor": 4
}
