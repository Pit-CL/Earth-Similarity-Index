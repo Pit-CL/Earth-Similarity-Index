{
 "cells": [
  {
   "cell_type": "code",
   "execution_count": 2,
   "metadata": {},
   "outputs": [],
   "source": [
    "import os\n",
    "import sys\n",
    "\n",
    "path = os.getcwd()\n",
    "data = path + '\\p4ds_esi_messy_data.txt'\n",
    "\n",
    "df = open (data, 'r')\n",
    "# Abre el archivo a trabajar en modo lectura\n",
    "name, medida, linea = [],[],[]\n",
    "wasp26, hd96167, gj581b, gk581g, titan, jupyter, io, venus, moon, mercury, mars, earth = [],[],[],[],[],[],[],[],[],[],[],[]\n",
    "# Creo las listas que van a contener los datos\n",
    "name = df.readline()\n",
    "medida = df.readline()\n",
    "linea = df.readline()\n",
    "earth = df.readline()\n",
    "mars = df.readline()\n",
    "mercury = df.readline()\n",
    "moon = df.readline()\n",
    "venus = df.readline()\n",
    "io= df.readline()\n",
    "jupyter = df.readline()\n",
    "titan = df.readline()\n",
    "gj581g= df.readline()\n",
    "gj581b = df.readline()\n",
    "hd96167 = df.readline()\n",
    "wasp26 = df.readline()\n",
    "#Una línea por variable\n",
    "df.close()\n",
    "#cierro el archivo"
   ]
  },
  {
   "cell_type": "code",
   "execution_count": 179,
   "metadata": {
    "tags": []
   },
   "outputs": [],
   "source": [
    "clean_earth = earth.replace ('**',',').replace(' ','')\n",
    "clean_mars = mars.replace ('**',',').replace(' ','')\n",
    "clean_mercury = mercury.replace ('**',',').replace(' ','')\n",
    "clean_moon = moon.replace ('0.27      0.6','0.27,0.6').replace('**',',').replace(' ','')\n",
    "clean_venus = venus.replace ('**',',').replace(' ','')\n",
    "clean_io = io.replace ('**',',').replace(' ','')\n",
    "clean_jupyter = jupyter.replace('**',',').replace(' ','')\n",
    "clean_titan = titan.replace ('**',',').replace(' ','')\n",
    "clean_gj581g = gj581g.replace ('**',',').replace(' ','')\n",
    "clean_gj581b = gj581b.replace('**',',').replace(' ','')\n",
    "clean_hd96167 = hd96167.replace ('**',',').replace(' ','')\n",
    "clean_wasp26 = wasp26.replace ('**',',').replace(' ','')\n",
    "#listas a las cuales hay que aplicarles split con separador de ',' obteniendo\n",
    "#de esta manera las listas finales a trabajar f_nombreDelAstro\n",
    "\n",
    "f_earth = clean_earth.split(sep=',')\n",
    "f_mars = clean_mars.split(sep=',')\n",
    "f_mercury = clean_mercury.split(sep=',')\n",
    "f_moon = clean_moon.split(sep=',')\n",
    "f_venus = clean_venus.split(sep=',')\n",
    "f_io = clean_io.split(sep=',')\n",
    "f_jupyter = clean_jupyter.split(sep=',')\n",
    "f_titan = clean_titan.split(sep=',')\n",
    "f_gj581g = clean_gj581g.split(sep=',')\n",
    "f_gj581b = clean_gj581b.split(sep=',')\n",
    "f_hd96167 = clean_hd96167.split(sep=',')\n",
    "f_wasp26 = clean_wasp26.split(sep=',')\n",
    "# listas finales para poder trabajar\n",
    "\n",
    "end = [f_earth, f_mars, f_mercury, f_moon, f_venus, f_io, f_jupyter, f_titan, f_gj581g, f_gj581b, f_hd96167, f_wasp26]\n",
    "# lista general para poder aumentar el contador en +1 y recorrer todas las listas\n"
   ]
  },
  {
   "cell_type": "code",
   "execution_count": 180,
   "metadata": {},
   "outputs": [],
   "source": [
    "def esi_s (planeta):\n",
    "    \n",
    "    global i\n",
    "    velocidad_peso = 0.70\n",
    "    temperatura_peso = 5.58 \n",
    "\n",
    "    if planeta == 'Earth':\n",
    "        i = 0\n",
    "    elif planeta == 'Mars':\n",
    "        i = 1\n",
    "    elif planeta == 'Mercury':\n",
    "        i = 2\n",
    "    elif planeta == 'Moon':\n",
    "        i = 3\n",
    "    elif planeta == 'Venus':\n",
    "        i = 4\n",
    "    elif planeta == 'Io':\n",
    "        i = 5\n",
    "    elif planeta == 'Jupyter':\n",
    "        i = 6\n",
    "    elif planeta == 'Titan':\n",
    "        i = 7\n",
    "    elif planeta == 'GJ581g':\n",
    "        i = 8\n",
    "    elif planeta == 'GJ581b':\n",
    "        i = 9\n",
    "    elif planeta == 'HD96167b':\n",
    "        i = 10\n",
    "    elif planeta == 'WASP26b':\n",
    "        i = 11\n",
    "    else:\n",
    "        print (planeta,' no se encuentra en el archivo')\n",
    "\n",
    "    esi_sup = ((1-(abs((float(end[0+i][5]) - float(end[0][5])) / (float(end[0+i][5]) + float(end[0][5])))))**(velocidad_peso/2))*((1-(abs((float(end [0+i][7]) - float(end[0][7]))/(float(end [0+i][7]) + float(end[0][7])))))**(temperatura_peso/2))\n",
    "    return esi_sup\n",
    "    \n",
    "  "
   ]
  },
  {
   "cell_type": "code",
   "execution_count": 181,
   "metadata": {},
   "outputs": [],
   "source": [
    "def esi_i (planeta):\n",
    "    \n",
    "    global i\n",
    "    radio_peso = 0.57\n",
    "    densidad_peso = 1.07 \n",
    "\n",
    "    if planeta == 'Earth':\n",
    "        i = 0\n",
    "    elif planeta == 'Mars':\n",
    "        i = 1\n",
    "    elif planeta == 'Mercury':\n",
    "        i = 2\n",
    "    elif planeta == 'Moon':\n",
    "        i = 3\n",
    "    elif planeta == 'Venus':\n",
    "        i = 4\n",
    "    elif planeta == 'Io':\n",
    "        i = 5\n",
    "    elif planeta == 'Jupyter':\n",
    "        i = 6\n",
    "    elif planeta == 'Titan':\n",
    "        i = 7\n",
    "    elif planeta == 'GJ581g':\n",
    "        i = 8\n",
    "    elif planeta == 'GJ581b':\n",
    "        i = 9\n",
    "    elif planeta == 'HD96167b':\n",
    "        i = 10\n",
    "    elif planeta == 'WASP26b':\n",
    "        i = 11\n",
    "    else:\n",
    "        print (planeta,' no se encuentra en el archivo')\n",
    "        \n",
    "    esi_int = ((1-(abs((float(end[0+i][2]) - float(end[0][2])) / (float(end[0+i][2]) + float(end[0][2])))))**(radio_peso/2))*((1-(abs((float(end [0+i][3]) - float(end[0][3]))/(float(end [0+i][3]) + float(end[0][3])))))**(densidad_peso/2))\n",
    "    return esi_int"
   ]
  },
  {
   "cell_type": "code",
   "execution_count": 182,
   "metadata": {},
   "outputs": [],
   "source": [
    "def esi_g (planeta):\n",
    "    \n",
    "    global i\n",
    "    velocidad_peso = 0.70\n",
    "    temperatura_peso = 5.58 \n",
    "    radio_peso = 0.57\n",
    "    densidad_peso = 1.07 \n",
    "\n",
    "    if planeta == 'Earth':\n",
    "        i = 0\n",
    "    elif planeta == 'Mars':\n",
    "        i = 1\n",
    "    elif planeta == 'Mercury':\n",
    "        i = 2\n",
    "    elif planeta == 'Moon':\n",
    "        i = 3\n",
    "    elif planeta == 'Venus':\n",
    "        i = 4\n",
    "    elif planeta == 'Io':\n",
    "        i = 5\n",
    "    elif planeta == 'Jupyter':\n",
    "        i = 6\n",
    "    elif planeta == 'Titan':\n",
    "        i = 7\n",
    "    elif planeta == 'GJ581g':\n",
    "        i = 8\n",
    "    elif planeta == 'GJ581b':\n",
    "        i = 9\n",
    "    elif planeta == 'HD96167b':\n",
    "        i = 10\n",
    "    elif planeta == 'WASP26b':\n",
    "        i = 11\n",
    "    else:\n",
    "        print (planeta,' no se encuentra en el archivo')\n",
    "    \n",
    "    esi_glob = ((((1-(abs((float(end[0+i][2]) - float(end[0][2])) / (float(end[0+i][2]) + float(end[0][2])))))**(radio_peso/2))*((1-(abs((float(end [0+i][3]) - float(end[0][3]))/(float(end [0+i][3]) + float(end[0][3])))))**(densidad_peso/2)))**(1/2)) * ((((1-(abs((float(end[0+i][5]) - float(end[0][5])) / (float(end[0+i][5]) + float(end[0][5])))))**(velocidad_peso/2))*((1-(abs((float(end [0+i][7]) - float(end[0][7]))/(float(end [0+i][7]) + float(end[0][7])))))**(temperatura_peso/2)))**(1/2)) \n",
    "    return esi_glob\n",
    "\n",
    "    "
   ]
  },
  {
   "cell_type": "code",
   "execution_count": 72,
   "metadata": {},
   "outputs": [],
   "source": [
    "def testsino (x):\n",
    "    if x > 0.8:\n",
    "        resultado = 'SI'\n",
    "    else:\n",
    "        resultado = 'NO'\n",
    "    return (resultado)\n",
    "# funcion para revisar si se cumple la condición SI o NO\n"
   ]
  },
  {
   "cell_type": "code",
   "execution_count": 184,
   "metadata": {
    "tags": []
   },
   "outputs": [
    {
     "output_type": "stream",
     "name": "stdout",
     "text": "Nombre              ESI_int               Esi_sup               Esi_glb             Similar\n-------------------------------------------------------------------------------------------\nMars                 0.815                 0.595                 0.697                 NO\nMercury              0.839                 0.422                 0.595                 NO\nMoon                 0.672                 0.462                 0.557                 NO\nVenus                0.979                 0.202                 0.444                 NO\nIo                   0.697                 0.188                 0.363                 NO\nJupyter              0.361                 0.237                 0.293                 NO\nTitan                0.593                 0.099                 0.243                 NO\nGJ 581 g             0.902                 0.879                 0.890                 SI\nGJ 581 b             0.659                 0.354                 0.483                 NO\nHD 96167 b           0.390                 0.556                 0.465                 NO\nWASP-26 b            0.223                 0.040                 0.094                 NO\n"
    }
   ],
   "source": [
    "print ('{:<19} {:^} {:>13} {:^} {:>13} {:^} {:>11} {}'.format('Nombre', 'ESI_int', ' ', 'Esi_sup', ' ', 'Esi_glb', ' ', 'Similar'))\n",
    "print ('-------------------------------------------------------------------------------------------')\n",
    "print ('{:<20} {:^.3f} {:>15} {:^.3f} {:>15} {:^.3f} {:>15} {}'.format('Mars',(esi_i('Mars')), ' ', (esi_s('Mars')), ' ', (esi_g('Mars')), ' ', testsino(esi_g('Mars'))))\n",
    "print ('{:<20} {:^.3f} {:>15} {:^.3f} {:>15} {:^.3f} {:>15} {}'.format('Mercury',(esi_i('Mercury')), ' ', (esi_s('Mercury')), ' ', (esi_g('Mercury')), ' ', testsino(esi_g('Mercury'))))\n",
    "print ('{:<20} {:^.3f} {:>15} {:^.3f} {:>15} {:^.3f} {:>15} {}'.format('Moon',(esi_i('Moon')), ' ', (esi_s('Moon')), ' ', (esi_g('Moon')), ' ', testsino(esi_g('Moon'))))\n",
    "print ('{:<20} {:^.3f} {:>15} {:^.3f} {:>15} {:^.3f} {:>15} {}'.format('Venus',(esi_i('Venus')), ' ', (esi_s('Venus')), ' ', (esi_g('Venus')), ' ', testsino(esi_g('Venus'))))\n",
    "print ('{:<20} {:^.3f} {:>15} {:^.3f} {:>15} {:^.3f} {:>15} {}'.format('Io',(esi_i('Io')), ' ', (esi_s('Io')), ' ', (esi_g('Io')), ' ', testsino(esi_g('Io'))))\n",
    "print ('{:<20} {:^.3f} {:>15} {:^.3f} {:>15} {:^.3f} {:>15} {}'.format('Jupyter',(esi_i('Jupyter')), ' ', (esi_s('Jupyter')), ' ', (esi_g('Jupyter')), ' ', testsino(esi_g('Jupyter'))))\n",
    "print ('{:<20} {:^.3f} {:>15} {:^.3f} {:>15} {:^.3f} {:>15} {}'.format('Titan',(esi_i('Titan')), ' ', (esi_s('Titan')), ' ', (esi_g('Titan')), ' ', testsino(esi_g('Titan'))))\n",
    "print ('{:<20} {:^.3f} {:>15} {:^.3f} {:>15} {:^.3f} {:>15} {}'.format('GJ 581 g',(esi_i('GJ581g')), ' ', (esi_s('GJ581g')), ' ', (esi_g('GJ581g')), ' ', testsino(esi_g('GJ581g'))))\n",
    "print ('{:<20} {:^.3f} {:>15} {:^.3f} {:>15} {:^.3f} {:>15} {}'.format('GJ 581 b',(esi_i('GJ581b')), ' ', (esi_s('GJ581b')), ' ', (esi_g('GJ581b')), ' ', testsino(esi_g('GJ581b'))))\n",
    "print ('{:<20} {:^.3f} {:>15} {:^.3f} {:>15} {:^.3f} {:>15} {}'.format('HD 96167 b',(esi_i('HD96167b')), ' ', (esi_s('HD96167b')), ' ', (esi_g('HD96167b')), ' ', testsino(esi_g('HD96167b'))))\n",
    "print ('{:<20} {:^.3f} {:>15} {:^.3f} {:>15} {:^.3f} {:>15} {}'.format('WASP-26 b',(esi_i('WASP26b')), ' ', (esi_s('WASP26b')), ' ', (esi_g('WASP26b')), ' ', testsino(esi_g('WASP26b'))))\n",
    "#de esta mamera puedo escribir el archivo\n"
   ]
  },
  {
   "cell_type": "code",
   "execution_count": 62,
   "metadata": {},
   "outputs": [],
   "source": [
    "path_tarea = path + '\\\\TAREA1_2020'\n",
    "if not os.path.exists(path_tarea):\n",
    "    os.makedirs(path_tarea)\n",
    "\n",
    "#script para crear la carpeta o revisar en caso de que no exista"
   ]
  },
  {
   "cell_type": "code",
   "execution_count": 26,
   "metadata": {},
   "outputs": [
    {
     "output_type": "error",
     "ename": "AttributeError",
     "evalue": "'str' object has no attribute 'txt'",
     "traceback": [
      "\u001b[1;31m---------------------------------------------------------------------------\u001b[0m",
      "\u001b[1;31mAttributeError\u001b[0m                            Traceback (most recent call last)",
      "\u001b[1;32m<ipython-input-26-2d9b3d6a234c>\u001b[0m in \u001b[0;36m<module>\u001b[1;34m\u001b[0m\n\u001b[0;32m      2\u001b[0m \u001b[0mdir_name\u001b[0m \u001b[1;33m=\u001b[0m \u001b[1;34m'TAREA1_2020'\u001b[0m\u001b[1;33m\u001b[0m\u001b[1;33m\u001b[0m\u001b[0m\n\u001b[0;32m      3\u001b[0m \u001b[0mfilename\u001b[0m \u001b[1;33m=\u001b[0m \u001b[1;34m'P4DS_T1_90AG15_Farias_Rafael'\u001b[0m\u001b[1;33m\u001b[0m\u001b[1;33m\u001b[0m\u001b[0m\n\u001b[1;32m----> 4\u001b[1;33m \u001b[1;32mfor\u001b[0m \u001b[0mfilename\u001b[0m\u001b[1;33m.\u001b[0m\u001b[0mtxt\u001b[0m \u001b[1;32min\u001b[0m \u001b[0mos\u001b[0m\u001b[1;33m.\u001b[0m\u001b[0mlistdir\u001b[0m\u001b[1;33m(\u001b[0m\u001b[0mdir_name\u001b[0m\u001b[1;33m)\u001b[0m\u001b[1;33m:\u001b[0m\u001b[1;33m\u001b[0m\u001b[1;33m\u001b[0m\u001b[0m\n\u001b[0m\u001b[0;32m      5\u001b[0m     \u001b[0md\u001b[0m\u001b[1;33m,\u001b[0m \u001b[0mmeses\u001b[0m\u001b[1;33m,\u001b[0m \u001b[0my\u001b[0m \u001b[1;33m=\u001b[0m \u001b[0mint\u001b[0m\u001b[1;33m(\u001b[0m\u001b[0mfilename\u001b[0m\u001b[1;33m.\u001b[0m\u001b[0mtxt\u001b[0m\u001b[1;33m[\u001b[0m\u001b[1;36m5\u001b[0m\u001b[1;33m:\u001b[0m\u001b[1;36m7\u001b[0m\u001b[1;33m]\u001b[0m\u001b[1;33m)\u001b[0m\u001b[1;33m,\u001b[0m \u001b[0mfilename\u001b[0m\u001b[1;33m.\u001b[0m\u001b[0mtxt\u001b[0m \u001b[1;33m[\u001b[0m\u001b[1;36m8\u001b[0m\u001b[1;33m:\u001b[0m\u001b[1;36m11\u001b[0m\u001b[1;33m]\u001b[0m\u001b[1;33m,\u001b[0m \u001b[0mint\u001b[0m\u001b[1;33m(\u001b[0m\u001b[0mfilename\u001b[0m\u001b[1;33m.\u001b[0m\u001b[0mtxt\u001b[0m \u001b[1;33m[\u001b[0m\u001b[1;36m12\u001b[0m\u001b[1;33m:\u001b[0m\u001b[1;36m14\u001b[0m\u001b[1;33m]\u001b[0m\u001b[1;33m)\u001b[0m\u001b[1;33m\u001b[0m\u001b[1;33m\u001b[0m\u001b[0m\n\u001b[0;32m      6\u001b[0m     \u001b[0mm\u001b[0m \u001b[1;33m=\u001b[0m \u001b[0mmeses\u001b[0m\u001b[1;33m.\u001b[0m\u001b[0mindex\u001b[0m\u001b[1;33m(\u001b[0m\u001b[0mmeses\u001b[0m\u001b[1;33m.\u001b[0m\u001b[0mpper\u001b[0m\u001b[1;33m(\u001b[0m\u001b[1;33m)\u001b[0m\u001b[1;33m)\u001b[0m\u001b[1;33m+\u001b[0m\u001b[1;36m1\u001b[0m\u001b[1;33m\u001b[0m\u001b[1;33m\u001b[0m\u001b[0m\n",
      "\u001b[1;31mAttributeError\u001b[0m: 'str' object has no attribute 'txt'"
     ]
    }
   ],
   "source": [
    "meses = ['EN','FE','MA','AB','MA','JN','JL','AG','SE','OC','NO','DI']\n",
    "dias = []\n",
    "dir_name = 'TAREA1_2020'\n",
    "filename = 'P4DS_T1_90AG15_Farias_Rafael'\n",
    "for filename.txt in os.listdir(dir_name):\n",
    "    d, meses, y = int(filename.txt[5:7]), filename.txt [8:11], int(filename.txt [12:14])\n",
    "    m = meses.index(meses.pper())+1\n",
    "\n",
    "   # nuevo_nombre = 'P4DS_T1_{:02d}{:02d}{:02d}.txt',format(y, m, d)"
   ]
  },
  {
   "cell_type": "code",
   "execution_count": 58,
   "metadata": {},
   "outputs": [
    {
     "output_type": "error",
     "ename": "ValueError",
     "evalue": "invalid literal for int() with base 10: 'op'",
     "traceback": [
      "\u001b[1;31m---------------------------------------------------------------------------\u001b[0m",
      "\u001b[1;31mValueError\u001b[0m                                Traceback (most recent call last)",
      "\u001b[1;32m<ipython-input-58-dab43d21a0d1>\u001b[0m in \u001b[0;36m<module>\u001b[1;34m\u001b[0m\n\u001b[0;32m      2\u001b[0m \u001b[0mdir_name\u001b[0m \u001b[1;33m=\u001b[0m \u001b[1;34m'TAREA1_2020'\u001b[0m\u001b[1;33m\u001b[0m\u001b[1;33m\u001b[0m\u001b[0m\n\u001b[0;32m      3\u001b[0m \u001b[1;32mfor\u001b[0m \u001b[0mfilename\u001b[0m \u001b[1;32min\u001b[0m \u001b[0mos\u001b[0m\u001b[1;33m.\u001b[0m\u001b[0mlistdir\u001b[0m \u001b[1;33m(\u001b[0m\u001b[0mdir_name\u001b[0m\u001b[1;33m)\u001b[0m\u001b[1;33m:\u001b[0m\u001b[1;33m\u001b[0m\u001b[1;33m\u001b[0m\u001b[0m\n\u001b[1;32m----> 4\u001b[1;33m     \u001b[0md\u001b[0m\u001b[1;33m,\u001b[0m \u001b[0mmonth\u001b[0m\u001b[1;33m,\u001b[0m \u001b[0my\u001b[0m \u001b[1;33m=\u001b[0m \u001b[0mint\u001b[0m\u001b[1;33m(\u001b[0m\u001b[0mfilename\u001b[0m\u001b[1;33m[\u001b[0m\u001b[1;36m5\u001b[0m\u001b[1;33m:\u001b[0m\u001b[1;36m7\u001b[0m\u001b[1;33m]\u001b[0m\u001b[1;33m)\u001b[0m\u001b[1;33m,\u001b[0m \u001b[0mfilename\u001b[0m\u001b[1;33m[\u001b[0m\u001b[1;36m8\u001b[0m\u001b[1;33m:\u001b[0m\u001b[1;36m11\u001b[0m\u001b[1;33m]\u001b[0m\u001b[1;33m,\u001b[0m \u001b[0mint\u001b[0m\u001b[1;33m(\u001b[0m\u001b[0mfilename\u001b[0m\u001b[1;33m[\u001b[0m\u001b[1;36m12\u001b[0m\u001b[1;33m:\u001b[0m\u001b[1;36m14\u001b[0m\u001b[1;33m]\u001b[0m\u001b[1;33m)\u001b[0m\u001b[1;33m\u001b[0m\u001b[1;33m\u001b[0m\u001b[0m\n\u001b[0m\u001b[0;32m      5\u001b[0m     \u001b[0mm\u001b[0m \u001b[1;33m=\u001b[0m \u001b[0mmonths\u001b[0m\u001b[1;33m.\u001b[0m\u001b[0mindex\u001b[0m\u001b[1;33m(\u001b[0m\u001b[0mmonth\u001b[0m\u001b[1;33m.\u001b[0m\u001b[0mlower\u001b[0m\u001b[1;33m(\u001b[0m\u001b[1;33m)\u001b[0m\u001b[1;33m)\u001b[0m\u001b[1;33m+\u001b[0m\u001b[1;36m1\u001b[0m\u001b[1;33m\u001b[0m\u001b[1;33m\u001b[0m\u001b[0m\n\u001b[0;32m      6\u001b[0m \u001b[1;33m\u001b[0m\u001b[0m\n",
      "\u001b[1;31mValueError\u001b[0m: invalid literal for int() with base 10: 'op'"
     ]
    }
   ],
   "source": [
    "months = ['jan', 'feb', 'mar', 'apr', 'may', 'jun', 'jul', 'aug', 'sep', 'oct', 'nov', 'dec']\n",
    "dir_name = 'TAREA1_2020'\n",
    "for filename in os.listdir (dir_name):\n",
    "    d, month, y = int(filename[5:7]), filename[8:11], int(filename[12:14])\n",
    "    m = months.index(month.lower())+1\n",
    "\n",
    "    newname = 'data-20{:02d}-{:02d}-{:02d}.txt'.format(y, m, d)\n",
    "    \n",
    "\n",
    " "
   ]
  },
  {
   "cell_type": "code",
   "execution_count": 60,
   "metadata": {},
   "outputs": [
    {
     "output_type": "error",
     "ename": "ValueError",
     "evalue": "invalid literal for int() with base 10: 'op'",
     "traceback": [
      "\u001b[1;31m---------------------------------------------------------------------------\u001b[0m",
      "\u001b[1;31mValueError\u001b[0m                                Traceback (most recent call last)",
      "\u001b[1;32m<ipython-input-60-36618d608871>\u001b[0m in \u001b[0;36m<module>\u001b[1;34m\u001b[0m\n\u001b[0;32m      2\u001b[0m \u001b[0mdir_name\u001b[0m \u001b[1;33m=\u001b[0m \u001b[1;34m'TAREA1_2020'\u001b[0m\u001b[1;33m\u001b[0m\u001b[1;33m\u001b[0m\u001b[0m\n\u001b[0;32m      3\u001b[0m \u001b[1;32mfor\u001b[0m \u001b[0mfilename\u001b[0m \u001b[1;32min\u001b[0m \u001b[0mos\u001b[0m\u001b[1;33m.\u001b[0m\u001b[0mlistdir\u001b[0m \u001b[1;33m(\u001b[0m\u001b[0mdir_name\u001b[0m\u001b[1;33m)\u001b[0m\u001b[1;33m:\u001b[0m\u001b[1;33m\u001b[0m\u001b[1;33m\u001b[0m\u001b[0m\n\u001b[1;32m----> 4\u001b[1;33m     \u001b[0md\u001b[0m\u001b[1;33m,\u001b[0m \u001b[0mmonth\u001b[0m\u001b[1;33m,\u001b[0m \u001b[0my\u001b[0m \u001b[1;33m=\u001b[0m \u001b[0mint\u001b[0m\u001b[1;33m(\u001b[0m\u001b[0mfilename\u001b[0m\u001b[1;33m[\u001b[0m\u001b[1;36m5\u001b[0m\u001b[1;33m:\u001b[0m\u001b[1;36m7\u001b[0m\u001b[1;33m]\u001b[0m\u001b[1;33m)\u001b[0m\u001b[1;33m,\u001b[0m \u001b[0mfilename\u001b[0m\u001b[1;33m[\u001b[0m\u001b[1;36m8\u001b[0m\u001b[1;33m:\u001b[0m\u001b[1;36m11\u001b[0m\u001b[1;33m]\u001b[0m\u001b[1;33m,\u001b[0m \u001b[0mint\u001b[0m\u001b[1;33m(\u001b[0m\u001b[0mfilename\u001b[0m\u001b[1;33m[\u001b[0m\u001b[1;36m12\u001b[0m\u001b[1;33m:\u001b[0m\u001b[1;36m14\u001b[0m\u001b[1;33m]\u001b[0m\u001b[1;33m)\u001b[0m\u001b[1;33m\u001b[0m\u001b[1;33m\u001b[0m\u001b[0m\n\u001b[0m\u001b[0;32m      5\u001b[0m     \u001b[0mm\u001b[0m \u001b[1;33m=\u001b[0m \u001b[0mmonths\u001b[0m\u001b[1;33m.\u001b[0m\u001b[0mindex\u001b[0m\u001b[1;33m(\u001b[0m\u001b[0mmonth\u001b[0m\u001b[1;33m.\u001b[0m\u001b[0mlower\u001b[0m\u001b[1;33m(\u001b[0m\u001b[1;33m)\u001b[0m\u001b[1;33m)\u001b[0m\u001b[1;33m+\u001b[0m\u001b[1;36m1\u001b[0m\u001b[1;33m\u001b[0m\u001b[1;33m\u001b[0m\u001b[0m\n\u001b[0;32m      6\u001b[0m \u001b[1;33m\u001b[0m\u001b[0m\n",
      "\u001b[1;31mValueError\u001b[0m: invalid literal for int() with base 10: 'op'"
     ]
    }
   ],
   "source": [
    "months = ['jan', 'feb', 'mar', 'apr', 'may', 'jun', 'jul', 'aug', 'sep', 'oct', 'nov', 'dec']\n",
    "dir_name = 'TAREA1_2020'\n",
    "for filename in os.listdir (dir_name):\n",
    "    d, month, y = int(filename[5:7]), filename[8:11], int(filename[12:14])\n",
    "    m = months.index(month.lower())+1\n",
    "\n",
    "    newname = 'data-20{:02d}-{:02d}-{:02d}.txt'.format(y, m, d)"
   ]
  },
  {
   "cell_type": "code",
   "execution_count": 69,
   "metadata": {},
   "outputs": [],
   "source": [
    "from datetime import date           \n",
    "\n",
    "fecha_hoy = date.today()           \n",
    "DD = fecha_hoy.strftime('%d')      \n",
    "MM = fecha_hoy.strftime('%m')      \n",
    "YY = fecha_hoy.strftime('%y')      \n",
    "fecha = YY + MM + DD                 \n",
    "\n",
    "Nombre, Apellido= 'Rafael', 'Farias'\n",
    "\n",
    "\n"
   ]
  },
  {
   "cell_type": "code",
   "execution_count": 70,
   "metadata": {},
   "outputs": [],
   "source": [
    "archivo_final = path_tarea + '\\P4DS_T1_' + fecha + '_'  + Apellido + '_' + Nombre + '.txt'"
   ]
  },
  {
   "cell_type": "code",
   "execution_count": null,
   "metadata": {},
   "outputs": [],
   "source": [
    "with open(archivo_final, 'w') as Arc: \n",
    "    Arc.write('{:<16}{:^16}{:^16}{:^16}{:^16}'.\\\n",
    "              format('Nombre','ESI_int','ESI_sup','ESI_glb','Similar'))\n",
    "    Arc.write('-'*76,)\n",
    "    for i in range(0,11):\n",
    "        Arc.write(('\\n {:<16}{:^16.3f}{:^16.3f}{:^16.3f}{:^14}'.\\\n",
    "                   format(N_Planeta[i],ESI_int[i],ESI_sup[i],ESI_glb[i],Resultado_Teste[i])))"
   ]
  },
  {
   "cell_type": "code",
   "execution_count": 66,
   "metadata": {},
   "outputs": [
    {
     "output_type": "error",
     "ename": "SyntaxError",
     "evalue": "invalid syntax (<ipython-input-66-f80ac97becc0>, line 3)",
     "traceback": [
      "\u001b[1;36m  File \u001b[1;32m\"<ipython-input-66-f80ac97becc0>\"\u001b[1;36m, line \u001b[1;32m3\u001b[0m\n\u001b[1;33m    print ('-------------------------------------------------------------------------------------------')\u001b[0m\n\u001b[1;37m        ^\u001b[0m\n\u001b[1;31mSyntaxError\u001b[0m\u001b[1;31m:\u001b[0m invalid syntax\n"
     ]
    }
   ],
   "source": [
    "with open(archivo_final, 'w') as tarea: \n",
    "    tarea.write(print ('{:<19} {:^} {:>13} {:^} {:>13} {:^} {:>11} {}'.format('Nombre', 'ESI_int', ' ', 'Esi_sup', ' ', 'Esi_glb', ' ', 'Similar'))\n",
    "print ('-------------------------------------------------------------------------------------------')\n",
    "print ('{:<20} {:^.3f} {:>15} {:^.3f} {:>15} {:^.3f} {:>15} {}'.format('Mars',(esi_i('Mars')), ' ', (esi_s('Mars')), ' ', (esi_g('Mars')), ' ', testsino(esi_g('Mars'))))\n",
    "print ('{:<20} {:^.3f} {:>15} {:^.3f} {:>15} {:^.3f} {:>15} {}'.format('Mercury',(esi_i('Mercury')), ' ', (esi_s('Mercury')), ' ', (esi_g('Mercury')), ' ', testsino(esi_g('Mercury'))))\n",
    "print ('{:<20} {:^.3f} {:>15} {:^.3f} {:>15} {:^.3f} {:>15} {}'.format('Moon',(esi_i('Moon')), ' ', (esi_s('Moon')), ' ', (esi_g('Moon')), ' ', testsino(esi_g('Moon'))))\n",
    "print ('{:<20} {:^.3f} {:>15} {:^.3f} {:>15} {:^.3f} {:>15} {}'.format('Venus',(esi_i('Venus')), ' ', (esi_s('Venus')), ' ', (esi_g('Venus')), ' ', testsino(esi_g('Venus'))))\n",
    "print ('{:<20} {:^.3f} {:>15} {:^.3f} {:>15} {:^.3f} {:>15} {}'.format('Io',(esi_i('Io')), ' ', (esi_s('Io')), ' ', (esi_g('Io')), ' ', testsino(esi_g('Io'))))\n",
    "print ('{:<20} {:^.3f} {:>15} {:^.3f} {:>15} {:^.3f} {:>15} {}'.format('Jupyter',(esi_i('Jupyter')), ' ', (esi_s('Jupyter')), ' ', (esi_g('Jupyter')), ' ', testsino(esi_g('Jupyter'))))\n",
    "print ('{:<20} {:^.3f} {:>15} {:^.3f} {:>15} {:^.3f} {:>15} {}'.format('Titan',(esi_i('Titan')), ' ', (esi_s('Titan')), ' ', (esi_g('Titan')), ' ', testsino(esi_g('Titan'))))\n",
    "print ('{:<20} {:^.3f} {:>15} {:^.3f} {:>15} {:^.3f} {:>15} {}'.format('GJ 581 g',(esi_i('GJ581g')), ' ', (esi_s('GJ581g')), ' ', (esi_g('GJ581g')), ' ', testsino(esi_g('GJ581g'))))\n",
    "print ('{:<20} {:^.3f} {:>15} {:^.3f} {:>15} {:^.3f} {:>15} {}'.format('GJ 581 b',(esi_i('GJ581b')), ' ', (esi_s('GJ581b')), ' ', (esi_g('GJ581b')), ' ', testsino(esi_g('GJ581b'))))\n",
    "print ('{:<20} {:^.3f} {:>15} {:^.3f} {:>15} {:^.3f} {:>15} {}'.format('HD 96167 b',(esi_i('HD96167b')), ' ', (esi_s('HD96167b')), ' ', (esi_g('HD96167b')), ' ', testsino(esi_g('HD96167b'))))\n",
    "print ('{:<20} {:^.3f} {:>15} {:^.3f} {:>15} {:^.3f} {:>15} {}'.format('WASP-26 b',(esi_i('WASP26b')), ' ', (esi_s('WASP26b')), ' ', (esi_g('WASP26b')), ' ', testsino(esi_g('WASP26b'))))"
   ]
  },
  {
   "cell_type": "code",
   "execution_count": 71,
   "metadata": {
    "tags": []
   },
   "outputs": [
    {
     "output_type": "stream",
     "name": "stdout",
     "text": "Nombre              ESI_int               Esi_sup               Esi_glb             Similar\n"
    }
   ],
   "source": [
    "print ('{:<19} {:^} {:>13} {:^} {:>13} {:^} {:>11} {}'.format('Nombre', 'ESI_int', ' ', 'Esi_sup', ' ', 'Esi_glb', ' ', 'Similar', file = archivo_final))"
   ]
  },
  {
   "cell_type": "code",
   "execution_count": 1,
   "metadata": {},
   "outputs": [],
   "source": [
    "def esi_g(planeta):\n",
    "    \"\"\"Esta función permite calcular el Esi  global de los planetas.\n",
    "\n",
    "    Args:\n",
    "        planeta ([str]): [se debe ingresar el nombre del planeta].\n",
    "\n",
    "    Returns\n",
    "    -------\n",
    "        [float]: [Resultado del cálculo del Esi global].\n",
    "    \"\"\"\n",
    "    global i\n",
    "    velocidad_peso = 0.70\n",
    "    temperatura_peso = 5.58\n",
    "    radio_peso = 0.57\n",
    "    densidad_peso = 1.07\n",
    "\n",
    "    if planeta == 'Earth':\n",
    "        i = 0\n",
    "    elif planeta == 'Mars':\n",
    "        i = 1\n",
    "    elif planeta == 'Mercury':\n",
    "        i = 2\n",
    "    elif planeta == 'Moon':\n",
    "        i = 3\n",
    "    elif planeta == 'Venus':\n",
    "        i = 4\n",
    "    elif planeta == 'Io':\n",
    "        i = 5\n",
    "    elif planeta == 'Jupyter':\n",
    "        i = 6\n",
    "    elif planeta == 'Titan':\n",
    "        i = 7\n",
    "    elif planeta == 'GJ581g':\n",
    "        i = 8\n",
    "    elif planeta == 'GJ581b':\n",
    "        i = 9\n",
    "    elif planeta == 'HD96167b':\n",
    "        i = 10\n",
    "    elif planeta == 'WASP26b':\n",
    "        i = 11\n",
    "    else:\n",
    "        print('Planeta no se encuentra en el archivo')\n",
    "\n",
    "    esi_glob = ((\n",
    "        ((1 - (abs(\n",
    "            (float(end[0 + i][2]) - float(end[0][2])) /\n",
    "            (float(end[0 + i][2]) + float(end[0][2])))))**(radio_peso / 2)) *\n",
    "        ((1 - (abs(\n",
    "            (float(end[0 + i][3]) - float(end[0][3])) /\n",
    "            (float(end[0 + i][3]) + float(end[0][3])))))**(densidad_peso / 2))\n",
    "    )**(1 / 2)) * ((((1 - (abs(\n",
    "        (float(end[0 + i][5]) - float(end[0][5])) /\n",
    "        (float(end[0 + i][5]) + float(end[0][5])))))**(velocidad_peso / 2)) *\n",
    "        ((1 - (abs((float(end[0 + i][7]) - float(end[0][7])) /\n",
    "                   (float(end[0 + i][7]) + float(end[0][7]))))) **\n",
    "         (temperatura_peso / 2)))**(1 / 2))\n",
    "    return esi_glob"
   ]
  },
  {
   "cell_type": "code",
   "execution_count": 1,
   "metadata": {},
   "outputs": [],
   "source": [
    "# -*- coding: utf-8 -*-.\n",
    "\"\"\"\n",
    "Tarea 1 P4DS.\n",
    "\n",
    "Alumno: Rafael Farías Poblete.\n",
    "\"\"\"\n",
    "import os\n",
    "from datetime import date\n",
    "\n",
    "path = os.getcwd()\n",
    "data = path + '\\\\p4ds_esi_messy_data.txt'\n",
    "\n",
    "df = open(data, 'r')\n",
    "# Abre el archivo a trabajar en modo lectura.\n",
    "name, medida, linea = [], [], []\n",
    "wasp26, hd96167, gj581b, gk581g, titan, jupyter, io, venus,\\\n",
    "    moon, mercury, mars, earth = [\n",
    "    ], [], [], [], [], [], [], [], [], [], [], []\n",
    "# Creo las listas que van a contener los datos.\n",
    "name = df.readline()\n",
    "medida = df.readline()\n",
    "linea = df.readline()\n",
    "earth = df.readline()\n",
    "mars = df.readline()\n",
    "mercury = df.readline()\n",
    "moon = df.readline()\n",
    "venus = df.readline()\n",
    "io = df.readline()\n",
    "jupyter = df.readline()\n",
    "titan = df.readline()\n",
    "gj581g = df.readline()\n",
    "gj581b = df.readline()\n",
    "hd96167 = df.readline()\n",
    "wasp26 = df.readline()\n",
    "# Una línea por variable.\n",
    "df.close()\n",
    "\n",
    "clean_earth = earth.replace('**', ',').replace(' ', '')\n",
    "clean_mars = mars.replace('**', ',').replace(' ', '')\n",
    "clean_mercury = mercury.replace('**', ',').replace(' ', '')\n",
    "clean_moon = moon.replace('0.27      0.6',\n",
    "                          '0.27,0.6').replace('**', ',').replace(' ', '')\n",
    "clean_venus = venus.replace('**', ',').replace(' ', '')\n",
    "clean_io = io.replace('**', ',').replace(' ', '')\n",
    "clean_jupyter = jupyter.replace('**', ',').replace(' ', '')\n",
    "clean_titan = titan.replace('**', ',').replace(' ', '')\n",
    "clean_gj581g = gj581g.replace('**', ',').replace(' ', '').replace('GJ581g','GJ 581 g')\n",
    "clean_gj581b = gj581b.replace('**', ',').replace(' ', '').replace('GJ581b', 'GJ 581 b')\n",
    "clean_hd96167 = hd96167.replace('**', ',').replace(' ', '').replace('HD96167b', 'HD 96167 b')\n",
    "clean_wasp26 = wasp26.replace('**', ',').replace(' ', '').replace('WASP26b', 'WASP-26 b')\n",
    "# Listas a las cuales hay que aplicarles split con separador de ',' obteniendo\n",
    "# de esta manera las listas finales a trabajar f_nombreDelAstro.\n",
    "\n",
    "f_earth = clean_earth.split(sep=',')\n",
    "f_mars = clean_mars.split(sep=',')\n",
    "f_mercury = clean_mercury.split(sep=',')\n",
    "f_moon = clean_moon.split(sep=',')\n",
    "f_venus = clean_venus.split(sep=',')\n",
    "f_io = clean_io.split(sep=',')\n",
    "f_jupyter = clean_jupyter.split(sep=',')\n",
    "f_titan = clean_titan.split(sep=',')\n",
    "f_gj581g = clean_gj581g.split(sep=',')\n",
    "f_gj581b = clean_gj581b.split(sep=',')\n",
    "f_hd96167 = clean_hd96167.split(sep=',')\n",
    "f_wasp26 = clean_wasp26.split(sep=',')\n",
    "# Listas finales para poder trabajar.\n",
    "\n",
    "end = [\n",
    "    f_earth, f_mars, f_mercury, f_moon, f_venus, f_io, f_jupyter, f_titan,\n",
    "    f_gj581g, f_gj581b, f_hd96167, f_wasp26\n",
    "]"
   ]
  },
  {
   "cell_type": "code",
   "execution_count": 3,
   "metadata": {},
   "outputs": [
    {
     "output_type": "execute_result",
     "data": {
      "text/plain": "['WASP-26b',\n '324.188',\n '14.81',\n '0.1',\n '1.48',\n '4.68',\n '0.04',\n '1321',\n '1291\\n']"
     },
     "metadata": {},
     "execution_count": 3
    }
   ],
   "source": [
    "f_wasp26"
   ]
  },
  {
   "cell_type": "code",
   "execution_count": null,
   "metadata": {},
   "outputs": [],
   "source": []
  }
 ],
 "metadata": {
  "language_info": {
   "codemirror_mode": {
    "name": "ipython",
    "version": 3
   },
   "file_extension": ".py",
   "mimetype": "text/x-python",
   "name": "python",
   "nbconvert_exporter": "python",
   "pygments_lexer": "ipython3",
   "version": "3.8.3-final"
  },
  "orig_nbformat": 2,
  "kernelspec": {
   "name": "python3",
   "display_name": "Python 3"
  }
 },
 "nbformat": 4,
 "nbformat_minor": 2
}